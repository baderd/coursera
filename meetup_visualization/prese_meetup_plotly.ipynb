{
 "cells": [
  {
   "cell_type": "code",
   "execution_count": 2,
   "metadata": {
    "collapsed": false
   },
   "outputs": [
    {
     "name": "stdout",
     "output_type": "stream",
     "text": [
      "3.5.2 |Anaconda 4.2.0 (x86_64)| (default, Jul  2 2016, 17:52:12) \n",
      "[GCC 4.2.1 Compatible Apple LLVM 4.2 (clang-425.0.28)]\n"
     ]
    }
   ],
   "source": [
    "import sys\n",
    "print (sys.version)"
   ]
  },
  {
   "cell_type": "markdown",
   "metadata": {},
   "source": [
    "\n",
    "## Grammar of Graphics\n",
    "### What ???\n",
    "\n",
    "The Grammar of Graphics is a visualization theory developed by \n",
    "Leland Wilkinson in 1999.\n",
    "\n",
    "* influenced the development of graphics and visualization libraries alike \n",
    "* focus on 3 of its key principles\n",
    "  * Separation of data from aesthetics (e.g. in ggplot)\n",
    "  * Definition of common plot/chart elements\n",
    "  * Composition of these common elements\n",
    "  \n",
    "\n",
    "## Building blocks of visualizations\n",
    "\n",
    "* data types\n",
    "  * quantitative \n",
    "  * categorical\n",
    "* visual objects used to encode quantitative values\n",
    "  * dots \n",
    "  * lines\n",
    "  * shapes\n"
   ]
  },
  {
   "cell_type": "code",
   "execution_count": 11,
   "metadata": {
    "collapsed": true
   },
   "outputs": [],
   "source": [
    "from IPython.display import display, HTML\n",
    "from plotly.offline import iplot, init_notebook_mode\n",
    "\n",
    "def show_plotly_html(filename):\n",
    "    return display(HTML(\"<iframe src=\"+filename+\" frameborder=0 width=100% height=500></iframe>\"))\n"
   ]
  },
  {
   "cell_type": "code",
   "execution_count": 1,
   "metadata": {
    "collapsed": false
   },
   "outputs": [],
   "source": [
    "%load_ext rpy2.ipython"
   ]
  },
  {
   "cell_type": "code",
   "execution_count": 4,
   "metadata": {
    "collapsed": false
   },
   "outputs": [],
   "source": [
    "%%R\n",
    "library(plotly)\n",
    "library(ggplot2)\n",
    "library(htmlwidgets)"
   ]
  },
  {
   "cell_type": "markdown",
   "metadata": {},
   "source": [
    "## Hello world example"
   ]
  },
  {
   "cell_type": "code",
   "execution_count": 17,
   "metadata": {
    "collapsed": false
   },
   "outputs": [],
   "source": [
    "%%R\n",
    "df <- data.frame(\n",
    "  catdata= c(\"A\", \"B\", \"C\"),\n",
    "  quantdata = c(1,2,3)\n",
    ")\n",
    "p <- subplot(\n",
    "  plot_ly(df, x=~catdata, y=~quantdata, type='scatter', mode='markers'), \n",
    "  plot_ly(df, x=~catdata, y=~quantdata, type='scatter', mode='markers+lines'),\n",
    "  plot_ly(df, x=~catdata, y=~quantdata, type='bar')\n",
    ")\n",
    "saveWidget(p, \"pr01_triple_basics.html\")"
   ]
  },
  {
   "cell_type": "code",
   "execution_count": 18,
   "metadata": {
    "collapsed": false,
    "scrolled": false
   },
   "outputs": [
    {
     "data": {
      "text/html": [
       "<iframe src=pr01_triple_basics.html frameborder=0 width=100% height=500></iframe>"
      ],
      "text/plain": [
       "<IPython.core.display.HTML object>"
      ]
     },
     "metadata": {},
     "output_type": "display_data"
    }
   ],
   "source": [
    "show_plotly_html(\"pr01_triple_basics.html\")"
   ]
  },
  {
   "cell_type": "markdown",
   "metadata": {
    "collapsed": true
   },
   "source": [
    "## Careful with datasets\n",
    "Pokemon Index data from Tableau website: https://public.tableau.com/s/resources\n",
    "\n",
    "![dont](img01_dont_pokemon_drive.jpg)"
   ]
  },
  {
   "cell_type": "code",
   "execution_count": 22,
   "metadata": {
    "collapsed": false
   },
   "outputs": [
    {
     "data": {
      "text/plain": [
       "[1] 217  11\n"
      ]
     },
     "metadata": {},
     "output_type": "display_data"
    }
   ],
   "source": [
    "%%R\n",
    "poke_stats <- read.csv('data01_pokemon_stats.csv')\n",
    "poke_moves <- read.csv('data02_pokemon_moves.csv')\n",
    "dim(poke_stats)"
   ]
  },
  {
   "cell_type": "code",
   "execution_count": null,
   "metadata": {
    "collapsed": true
   },
   "outputs": [],
   "source": []
  },
  {
   "cell_type": "code",
   "execution_count": null,
   "metadata": {
    "collapsed": true
   },
   "outputs": [],
   "source": []
  }
 ],
 "metadata": {
  "anaconda-cloud": {},
  "kernelspec": {
   "display_name": "Python [default]",
   "language": "python",
   "name": "python3"
  },
  "language_info": {
   "codemirror_mode": {
    "name": "ipython",
    "version": 3
   },
   "file_extension": ".py",
   "mimetype": "text/x-python",
   "name": "python",
   "nbconvert_exporter": "python",
   "pygments_lexer": "ipython3",
   "version": "3.5.2"
  }
 },
 "nbformat": 4,
 "nbformat_minor": 1
}
